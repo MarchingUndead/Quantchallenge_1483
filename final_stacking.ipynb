{
 "cells": [
  {
   "cell_type": "code",
   "execution_count": null,
   "id": "b5ecf1b4",
   "metadata": {},
   "outputs": [],
   "source": [
    "import os\n",
    "import time\n",
    "import warnings\n",
    "warnings.filterwarnings(\"ignore\")\n",
    "import numpy as np\n",
    "import pandas as pd\n",
    "from sklearn.model_selection import train_test_split\n",
    "from sklearn.impute import SimpleImputer\n",
    "from sklearn.preprocessing import RobustScaler\n",
    "from sklearn.pipeline import Pipeline\n",
    "from sklearn.ensemble import RandomForestRegressor, HistGradientBoostingRegressor, StackingRegressor\n",
    "from sklearn.linear_model import RidgeCV\n",
    "from sklearn.multioutput import MultiOutputRegressor\n",
    "from sklearn.metrics import r2_score\n",
    "from sklearn.base import clone\n",
    "import joblib"
   ]
  },
  {
   "cell_type": "code",
   "execution_count": 4,
   "id": "9a7c23f3",
   "metadata": {},
   "outputs": [
    {
     "name": "stdout",
     "output_type": "stream",
     "text": [
      "Target columns: ['Y1', 'Y2']\n",
      "Feature columns---(15): ['time', 'A', 'B', 'C', 'D', 'E', 'F', 'G', 'H', 'I', 'J', 'K', 'L', 'M', 'N']\n"
     ]
    }
   ],
   "source": [
    "HAS_XGB = False\n",
    "HAS_LGBM = False\n",
    "try:\n",
    "    from xgboost import XGBRegressor\n",
    "    HAS_XGB = True\n",
    "except Exception:\n",
    "    HAS_XGB = False\n",
    "\n",
    "try:\n",
    "    from lightgbm import LGBMRegressor\n",
    "    HAS_LGBM = True\n",
    "except Exception:\n",
    "    HAS_LGBM = False\n",
    "\n",
    "DATA_PATH = \"train.csv\"   # change if your file is elsewhere\n",
    "RANDOM_STATE = 42\n",
    "TEST_SIZE = 0.20\n",
    "MODEL_SAVE_DIR = \"./models\"   \n",
    "df = pd.read_csv(DATA_PATH)\n",
    "possible_targets = ['Y1', 'Y2']\n",
    "if all(t in df.columns for t in possible_targets):\n",
    "    target_names = possible_targets\n",
    "else:\n",
    "    # fallback\n",
    "    target_names = list(df.columns[-2:])\n",
    "print(\"Target columns:\", target_names)\n",
    "\n",
    "feature_cols = [c for c in df.columns if c not in target_names]\n",
    "print(\"Feature columns---({}): {}\".format(len(feature_cols), feature_cols))\n",
    "\n",
    "X = df[feature_cols].copy().apply(pd.to_numeric, errors='coerce')\n",
    "y = df[target_names].copy().apply(pd.to_numeric, errors='coerce')\n",
    "X_train, X_val, y_train, y_val = train_test_split(X, y, test_size=TEST_SIZE, random_state=RANDOM_STATE)\n",
    "preprocessor = Pipeline([\n",
    "    (\"imputer\", SimpleImputer(strategy=\"median\")),\n",
    "    (\"scaler\", RobustScaler())\n",
    "])\n",
    "base_estimators = [\n",
    "    (\"rf\", RandomForestRegressor(n_estimators=150, random_state=RANDOM_STATE, n_jobs=-1)),\n",
    "    (\"hgb\", HistGradientBoostingRegressor(max_iter=200, random_state=RANDOM_STATE))\n",
    "]\n",
    "\n",
    "base_estimators.append((\"xgb\", XGBRegressor(n_estimators=200, random_state=RANDOM_STATE, n_jobs=4, verbosity=0)))\n",
    "base_estimators.append((\"lgbm\", LGBMRegressor(n_estimators=200, random_state=RANDOM_STATE, n_jobs=-1)))\n",
    "final_estimator = RidgeCV(alphas=[0.1, 1.0, 10.0])\n"
   ]
  },
  {
   "cell_type": "code",
   "execution_count": null,
   "id": "1b21afb0",
   "metadata": {},
   "outputs": [
    {
     "name": "stdout",
     "output_type": "stream",
     "text": [
      "For Y1\n"
     ]
    }
   ],
   "source": [
    "os.makedirs(MODEL_SAVE_DIR, exist_ok=True)\n",
    "models = {}\n",
    "r2_scores = {}\n",
    "start_time = time.time()\n",
    "for tgt in target_names:\n",
    "    print(f\"For {tgt}\") \n",
    "    ytr = y_train[tgt]\n",
    "    yva = y_val[tgt]\n",
    "    stack = StackingRegressor(estimators=base_estimators, final_estimator=final_estimator, n_jobs=-1, passthrough=False)\n",
    "    pipeline = Pipeline([\n",
    "        (\"preproc\", preprocessor),\n",
    "        (\"stack\", stack)\n",
    "    ])\n",
    "    t0 = time.time()\n",
    "    pipeline.fit(X_train, ytr)\n",
    "    elapsed = time.time() - t0\n",
    "    preds_val = pipeline.predict(X_val)\n",
    "    r2 = r2_score(yva, preds_val)\n",
    "    models[tgt] = pipeline\n",
    "    r2_scores[tgt] = r2\n",
    "    print(f\"  -> Trained in {elapsed:.1f}s, Validation R2: {r2:.4f}\")\n",
    "\n",
    "total_elapsed = time.time() - start_time\n",
    "print(f\"\\nTotal training time taken -: {total_elapsed:.1f}s\")\n",
    "\n",
    "print(\"\\nFitting MultiOutput baseline (HistGradientBoosting)...\")\n",
    "multi_pipeline = Pipeline([\n",
    "    (\"preproc\", preprocessor),\n",
    "    (\"multi\", MultiOutputRegressor(HistGradientBoostingRegressor(max_iter=200, random_state=RANDOM_STATE)))\n",
    "])\n",
    "t0 = time.time()\n",
    "multi_pipeline.fit(X_train, y_train)\n",
    "multi_elapsed = time.time() - t0\n",
    "multi_preds = multi_pipeline.predict(X_val)\n",
    "multi_r2_Y1 = r2_score(y_val[target_names[0]], multi_preds[:, 0])\n",
    "multi_r2_Y2 = r2_score(y_val[target_names[1]], multi_preds[:, 1])\n",
    "print(f\"  -> MultiOutput trained in {multi_elapsed:.1f}s, R2s: {target_names[0]}={multi_r2_Y1:.4f}, {target_names[1]}={multi_r2_Y2:.4f}\")\n"
   ]
  },
  {
   "cell_type": "code",
   "execution_count": null,
   "id": "8c8224b7",
   "metadata": {},
   "outputs": [],
   "source": [
    "\n",
    "for tgt, mdl in models.items():\n",
    "    path = os.path.join(MODEL_SAVE_DIR, f\"stack_{tgt}.joblib\")\n",
    "    joblib.dump(mdl, path)\n",
    "    print(\"Saved\", path)\n",
    "\n",
    "multi_path = os.path.join(MODEL_SAVE_DIR, \"multi_histgb.joblib\")\n",
    "joblib.dump(multi_pipeline, multi_path)\n",
    "print(\"Saved\", multi_path)\n",
    "print(\"\\nFinal R2 scores (stacking per target):\")\n",
    "for tgt, val in r2_scores.items():\n",
    "    print(f\"  {tgt}: {val:.4f}\")\n",
    "print(\"\\nMultiOutput baseline R2 scores:\")\n",
    "print(f\"  {target_names[0]}: {multi_r2_Y1:.4f}\")\n",
    "print(f\"  {target_names[1]}: {multi_r2_Y2:.4f}\")\n",
    "val_compare = pd.DataFrame({\n",
    "    f\"y_true_{target_names[0]}\": y_val[target_names[0]].iloc[:10].values,\n",
    "    f\"y_pred_stack_{target_names[0]}\": models[target_names[0]].predict(X_val)[:10],\n",
    "    f\"y_true_{target_names[1]}\": y_val[target_names[1]].iloc[:10].values,\n",
    "    f\"y_pred_stack_{target_names[1]}\": models[target_names[1]].predict(X_val)[:10]\n",
    "})\n",
    "print(\"\\nSample validation comparison for the 10 first rows:\")\n",
    "print(val_compare.to_string(index=False))\n",
    "\n",
    "print(\"\\nModels saved to:\", os.path.abspath(MODEL_SAVE_DIR))\n"
   ]
  },
  {
   "cell_type": "code",
   "execution_count": null,
   "id": "8cbb83ab",
   "metadata": {},
   "outputs": [
    {
     "name": "stdout",
     "output_type": "stream",
     "text": [
      "Loaded test.csv with shape: (15996, 16)\n",
      "Saved predictions.csv\n",
      "   id        Y1        Y2\n",
      "0   1  0.492582 -0.151149\n",
      "1   2 -0.269365 -0.341803\n",
      "2   3 -0.331963 -0.080804\n",
      "3   4 -0.487142  0.212209\n",
      "4   5 -0.967007  0.122879\n"
     ]
    }
   ],
   "source": [
    "test_df = pd.read_csv(\"test.csv\")\n",
    "print(\"Loaded test.csv with shape:\", test_df.shape)\n",
    "X_test = test_df[[c for c in feature_cols if c in test_df.columns]].copy()\n",
    "preds = {}\n",
    "for tgt in target_names:\n",
    "    model = joblib.load(os.path.join(MODEL_SAVE_DIR, f\"stack_{tgt}.joblib\"))\n",
    "    preds[tgt] = model.predict(X_test)\n",
    "\n",
    "if \"id\" in test_df.columns:\n",
    "    ids = test_df[\"id\"].values  # preserve exact IDs\n",
    "else:\n",
    "    ids = np.arange(1, len(test_df) + 1)  \n",
    "submission = pd.DataFrame({\n",
    "    \"id\": ids,\n",
    "    \"Y1\": preds[target_names[0]],\n",
    "    \"Y2\": preds[target_names[1]],\n",
    "})\n",
    "submission.to_csv(\"predictions.csv\", index=False)\n",
    "print(\"Saved predictions.csv\")"
   ]
  }
 ],
 "metadata": {
  "kernelspec": {
   "display_name": "Python 3",
   "language": "python",
   "name": "python3"
  },
  "language_info": {
   "codemirror_mode": {
    "name": "ipython",
    "version": 3
   },
   "file_extension": ".py",
   "mimetype": "text/x-python",
   "name": "python",
   "nbconvert_exporter": "python",
   "pygments_lexer": "ipython3",
   "version": "3.13.7"
  }
 },
 "nbformat": 4,
 "nbformat_minor": 5
}
